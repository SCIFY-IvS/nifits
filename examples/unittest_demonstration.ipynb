{
 "cells": [
  {
   "metadata": {},
   "cell_type": "code",
   "source": [
    "import numpy as np\n",
    "import matplotlib.pyplot as plt"
   ],
   "id": "9ba6000aa182689f",
   "outputs": [],
   "execution_count": null
  },
  {
   "metadata": {},
   "cell_type": "markdown",
   "source": [
    "# 1. Create example data\n",
    "# 1.1 Setup a single Bracewell"
   ],
   "id": "bb883ec2d9e47628"
  },
  {
   "metadata": {},
   "cell_type": "code",
   "source": [
    "# combiner matrix for a single Bracewell array\n",
    "combiner = np.array(((1, -1), (1, 1))) / np.sqrt(2)\n",
    "\n",
    "# collector positions\n",
    "baseline = 15  # in meter\n",
    "\n",
    "# rotation angles over observation\n",
    "rotation_angle = np.linspace(0., 2*np.pi, 1000)  # in rad\n",
    "\n",
    "collector_positions_init = np.array(((-baseline/2, baseline/2), (0, 0)))\n",
    "\n",
    "rotation_matrix = np.array(((np.cos(rotation_angle), -np.sin(rotation_angle)),\n",
    "                            (np.sin(rotation_angle), np.cos(rotation_angle))))\n",
    "\n",
    "collector_position = np.dot(np.swapaxes(rotation_matrix, -1, 0), collector_positions_init)\n",
    "\n",
    "# observing wavelength\n",
    "wl_bin = 10e-6  # in meter\n",
    "\n",
    "# collector area\n",
    "scaled_area = 1  # in meter^2"
   ],
   "id": "c5388f72880cbce9",
   "outputs": [],
   "execution_count": null
  },
  {
   "metadata": {},
   "cell_type": "markdown",
   "source": "## 1.2 Compute planet signal",
   "id": "37f5a2947b45a265"
  },
  {
   "metadata": {},
   "cell_type": "code",
   "source": [
    "# source position\n",
    "separation_arcsec = 0.1  # in arcsec\n",
    "separation_rad = separation_arcsec / 3600 / 180 * np.pi  # in rad\n",
    "\n",
    "# rotation angles over observation\n",
    "rotation_angle_planet = 0. # in rad\n",
    "\n",
    "# source position angle vectors in radians\n",
    "source_position = np.array((separation_rad * np.cos(rotation_angle_planet), \n",
    "                            separation_rad * np.sin(rotation_angle_planet)))\n",
    "\n",
    "# Calculate the phase term\n",
    "phase_term = 1j * 2 * np.pi / wl_bin\n",
    "\n",
    "# Compute the dot products for all t in one go using np.tensordot\n",
    "dot_product_x = np.tensordot(collector_position[:, 0, :], source_position, \n",
    "                             axes=([1], [0]))\n",
    "dot_product_y = np.tensordot(collector_position[:, 1, :], source_position, \n",
    "                             axes=([1], [0]))\n",
    "\n",
    "# Calculate the phasors\n",
    "phasor_x = scaled_area * np.exp(phase_term * dot_product_x)\n",
    "phasor_y = scaled_area * np.exp(phase_term * dot_product_y)\n",
    "\n",
    "# Combine the results\n",
    "input_phasor = np.array([phasor_x, phasor_y])\n",
    "\n",
    "planet_signal = np.abs(np.array([np.dot(combiner, input_phasor[:, t]) for t in range(input_phasor.shape[1])]))**2"
   ],
   "id": "a933153ef7fc6d2a",
   "outputs": [],
   "execution_count": null
  },
  {
   "metadata": {},
   "cell_type": "markdown",
   "source": "## 1.3 Add random noise and plot the signal",
   "id": "b006f3e856c71cc6"
  },
  {
   "metadata": {},
   "cell_type": "code",
   "source": [
    "star_signal = np.random.normal([np.mean(planet_signal)*10, np.mean(planet_signal)*1000], [np.sqrt(np.mean(planet_signal)*10), np.sqrt(np.mean(planet_signal)*1000)], planet_signal.shape)\n",
    "\n",
    "signal = planet_signal + star_signal"
   ],
   "id": "c2ff3e1dae8d2205",
   "outputs": [],
   "execution_count": null
  },
  {
   "metadata": {},
   "cell_type": "code",
   "source": [
    "plt.plot(signal[:, 1])\n",
    "plt.plot(signal[:, 0])\n",
    "plt.ylabel('Signal in a.u.')\n",
    "plt.xlabel('Time in a.u.')\n",
    "plt.show()"
   ],
   "id": "ea3a4688e1664e61",
   "outputs": [],
   "execution_count": null
  },
  {
   "metadata": {},
   "cell_type": "markdown",
   "source": [
    "# 2. Initialize a nifits object\n",
    "## 2.1 Initialize the extension classes"
   ],
   "id": "9bd345fce2b125a8"
  },
  {
   "metadata": {},
   "cell_type": "code",
   "source": [
    "from nifits.io.oifits import NI_CATM\n",
    "ni_catm = NI_CATM(Mcn=combiner[np.newaxis, :, :])"
   ],
   "id": "b21b2d285ba2f647",
   "outputs": [],
   "execution_count": null
  },
  {
   "metadata": {},
   "cell_type": "code",
   "source": [
    "from nifits.io.oifits import NI_FOV\n",
    "ni_fov = NI_FOV(mode='radial',\n",
    "                char_scale=1.)"
   ],
   "id": "9b64e4bc8da61089",
   "outputs": [],
   "execution_count": null
  },
  {
   "metadata": {},
   "cell_type": "code",
   "source": [
    "from nifits.io.oifits import OI_TARGET\n",
    "oi_target = OI_TARGET(target=['Test Target'], \n",
    "                      raep0=14.3, \n",
    "                      decep0=-60.4)"
   ],
   "id": "8ddc9169f71d81d5",
   "outputs": [],
   "execution_count": null
  },
  {
   "metadata": {},
   "cell_type": "code",
   "source": [
    "from nifits.io.oifits import NI_MOD\n",
    "ni_mod = NI_MOD(app_index=[0, 1],\n",
    "                target_id=[0, 0], \n",
    "                time=3600., \n",
    "                mjd=60396.041666,\n",
    "                int_time=1000.,\n",
    "                mod_phas=np.ones((1, signal.shape[0]), dtype=np.complex128),\n",
    "                app_xy=collector_position, \n",
    "                arrcol=1.,\n",
    "                fov_index=0)"
   ],
   "id": "34ae6dd0f6a2803f",
   "outputs": [],
   "execution_count": null
  },
  {
   "metadata": {},
   "cell_type": "code",
   "source": [
    "import datetime\n",
    "# print current time and date as string\n",
    "now = str(datetime.datetime.now())"
   ],
   "id": "fe7844046f04cf60",
   "outputs": [],
   "execution_count": null
  },
  {
   "metadata": {},
   "cell_type": "code",
   "source": "str(now)",
   "id": "cb97d15d6c3171e3",
   "outputs": [],
   "execution_count": null
  },
  {
   "metadata": {},
   "cell_type": "code",
   "source": [
    "header_dict = {'SIMPLE': True,\n",
    "               'BITPIX': -32,\n",
    "               'NAXIS': 0,\n",
    "                'EXTEND': True,\n",
    "               'ORIGIN': 'NIFITS Consortium',\n",
    "               'DATE': str(datetime.datetime.now()),\n",
    "               'DATE-OBS': '2021-01-01T00:00:00',\n",
    "               'CONTENT': 'NIFITS',\n",
    "                'TELESCOP': 'Test Telescope',\n",
    "                'INSTRUME': 'Test Instrument',\n",
    "                'OBJECT': 'Test Object',\n",
    "                'OBSERVER': 'Test Observer',\n",
    "               'INSMODE': 'Test Instrument Mode',\n",
    "               }"
   ],
   "id": "57a92f892c8752f2",
   "outputs": [],
   "execution_count": null
  },
  {
   "metadata": {},
   "cell_type": "markdown",
   "source": "## 2.2 Initialize the OIFITS object",
   "id": "3acb5d2d793778ff"
  },
  {
   "metadata": {},
   "cell_type": "code",
   "source": "from nifits.io.oifits import oifits",
   "id": "1c88137ac89dbf8",
   "outputs": [],
   "execution_count": null
  },
  {
   "metadata": {},
   "cell_type": "code",
   "source": [
    "oifits_obj = oifits(header_dict=header_dict,\n",
    "                    catm=ni_catm,\n",
    "                    fov=ni_mod)"
   ],
   "id": "603ec0690b6618c6",
   "outputs": [],
   "execution_count": null
  },
  {
   "metadata": {},
   "cell_type": "code",
   "source": "",
   "id": "36fdc22d8317f0ec",
   "outputs": [],
   "execution_count": null
  }
 ],
 "metadata": {
  "kernelspec": {
   "display_name": "Python 3",
   "language": "python",
   "name": "python3"
  },
  "language_info": {
   "codemirror_mode": {
    "name": "ipython",
    "version": 2
   },
   "file_extension": ".py",
   "mimetype": "text/x-python",
   "name": "python",
   "nbconvert_exporter": "python",
   "pygments_lexer": "ipython2",
   "version": "2.7.6"
  }
 },
 "nbformat": 4,
 "nbformat_minor": 5
}
