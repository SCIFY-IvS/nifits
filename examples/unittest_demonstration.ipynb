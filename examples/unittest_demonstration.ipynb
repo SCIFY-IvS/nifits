{
 "cells": [
  {
   "metadata": {
    "ExecuteTime": {
     "end_time": "2024-07-12T13:54:49.604401Z",
     "start_time": "2024-07-12T13:54:46.316373Z"
    }
   },
   "cell_type": "code",
   "source": [
    "import numpy as np\n",
    "import matplotlib.pyplot as plt"
   ],
   "id": "9ba6000aa182689f",
   "outputs": [],
   "execution_count": 15
  },
  {
   "metadata": {},
   "cell_type": "markdown",
   "source": [
    "# 1. Create example data\n",
    "# 1.1 Setup a single Bracewell"
   ],
   "id": "bb883ec2d9e47628"
  },
  {
   "metadata": {
    "ExecuteTime": {
     "end_time": "2024-07-12T14:01:22.361883Z",
     "start_time": "2024-07-12T14:01:22.354962Z"
    }
   },
   "cell_type": "code",
   "source": [
    "# combiner matrix for a single Bracewell array\n",
    "combiner = np.array(((1, -1), (1, 1))) / np.sqrt(2)\n",
    "\n",
    "# collector positions\n",
    "baseline = 15  # in meter\n",
    "\n",
    "# rotation angles over observation\n",
    "rotation_angle = np.linspace(0., 2*np.pi, 1000)  # in rad\n",
    "\n",
    "collector_positions_init = np.array(((-baseline/2, baseline/2), (0, 0)))\n",
    "\n",
    "rotation_matrix = np.array(((np.cos(rotation_angle), -np.sin(rotation_angle)),\n",
    "                            (np.sin(rotation_angle), np.cos(rotation_angle))))\n",
    "\n",
    "collector_positions = np.dot(np.swapaxes(rotation_matrix, -1, 0), collector_positions_init)\n",
    "\n",
    "# observing wavelength\n",
    "wl_bin = 10e-6  # in meter\n",
    "\n",
    "# collector area\n",
    "scaled_area = 1  # in meter^2"
   ],
   "id": "c5388f72880cbce9",
   "outputs": [],
   "execution_count": 36
  },
  {
   "metadata": {},
   "cell_type": "markdown",
   "source": "## 1.2 Compute planet signal",
   "id": "37f5a2947b45a265"
  },
  {
   "metadata": {
    "ExecuteTime": {
     "end_time": "2024-07-12T14:07:21.796406Z",
     "start_time": "2024-07-12T14:07:21.762449Z"
    }
   },
   "cell_type": "code",
   "source": [
    "# source position\n",
    "separation_arcsec = 0.1  # in arcsec\n",
    "separation_rad = separation_arcsec / 3600 / 180 * np.pi  # in rad\n",
    "\n",
    "# rotation angles over observation\n",
    "rotation_angle = 0.5  # in rad\n",
    "\n",
    "# source position angle vectors in radians\n",
    "source_position = np.array((separation_rad * np.cos(rotation_angle), \n",
    "                            separation_rad * np.sin(rotation_angle)))\n",
    "\n",
    "# create input phasor\n",
    "input_phasor = scaled_area * np.exp(1j * 2 * np.pi / wl_bin * np.dot(np.transpose(collector_positions, axes=(0, 2, 1)), source_position))\n",
    "\n",
    "planet_signal = np.dot(combiner, input_phasor)"
   ],
   "id": "a933153ef7fc6d2a",
   "outputs": [
    {
     "ename": "ValueError",
     "evalue": "shapes (2,2) and (1000,2) not aligned: 2 (dim 1) != 1000 (dim 0)",
     "output_type": "error",
     "traceback": [
      "\u001B[0;31m---------------------------------------------------------------------------\u001B[0m",
      "\u001B[0;31mValueError\u001B[0m                                Traceback (most recent call last)",
      "Cell \u001B[0;32mIn[48], line 15\u001B[0m\n\u001B[1;32m     12\u001B[0m \u001B[38;5;66;03m# create input phasor\u001B[39;00m\n\u001B[1;32m     13\u001B[0m input_phasor \u001B[38;5;241m=\u001B[39m scaled_area \u001B[38;5;241m*\u001B[39m np\u001B[38;5;241m.\u001B[39mexp(\u001B[38;5;241m1\u001B[39mj \u001B[38;5;241m*\u001B[39m \u001B[38;5;241m2\u001B[39m \u001B[38;5;241m*\u001B[39m np\u001B[38;5;241m.\u001B[39mpi \u001B[38;5;241m/\u001B[39m wl_bin \u001B[38;5;241m*\u001B[39m np\u001B[38;5;241m.\u001B[39mdot(np\u001B[38;5;241m.\u001B[39mtranspose(collector_positions, axes\u001B[38;5;241m=\u001B[39m(\u001B[38;5;241m0\u001B[39m, \u001B[38;5;241m2\u001B[39m, \u001B[38;5;241m1\u001B[39m)), source_position))\n\u001B[0;32m---> 15\u001B[0m planet_signal \u001B[38;5;241m=\u001B[39m \u001B[43mnp\u001B[49m\u001B[38;5;241;43m.\u001B[39;49m\u001B[43mdot\u001B[49m\u001B[43m(\u001B[49m\u001B[43mcombiner\u001B[49m\u001B[43m,\u001B[49m\u001B[43m \u001B[49m\u001B[43minput_phasor\u001B[49m\u001B[43m)\u001B[49m\n",
      "File \u001B[0;32m<__array_function__ internals>:200\u001B[0m, in \u001B[0;36mdot\u001B[0;34m(*args, **kwargs)\u001B[0m\n",
      "\u001B[0;31mValueError\u001B[0m: shapes (2,2) and (1000,2) not aligned: 2 (dim 1) != 1000 (dim 0)"
     ]
    }
   ],
   "execution_count": 48
  },
  {
   "metadata": {
    "ExecuteTime": {
     "end_time": "2024-07-12T14:07:14.850403Z",
     "start_time": "2024-07-12T14:07:14.844186Z"
    }
   },
   "cell_type": "code",
   "source": "np.transpose(collector_positions, axes=(0, 2, 1)).shape",
   "id": "ea3a4688e1664e61",
   "outputs": [
    {
     "data": {
      "text/plain": [
       "(1000, 2, 2)"
      ]
     },
     "execution_count": 47,
     "metadata": {},
     "output_type": "execute_result"
    }
   ],
   "execution_count": 47
  },
  {
   "metadata": {
    "ExecuteTime": {
     "end_time": "2024-07-12T14:07:27.503923Z",
     "start_time": "2024-07-12T14:07:27.497874Z"
    }
   },
   "cell_type": "code",
   "source": "source_position",
   "id": "274befffb26e0f5a",
   "outputs": [
    {
     "data": {
      "text/plain": [
       "array([4.25464032e-07, 2.32432060e-07])"
      ]
     },
     "execution_count": 49,
     "metadata": {},
     "output_type": "execute_result"
    }
   ],
   "execution_count": 49
  },
  {
   "metadata": {},
   "cell_type": "code",
   "outputs": [],
   "execution_count": null,
   "source": "",
   "id": "51ad666a3590b153"
  }
 ],
 "metadata": {
  "kernelspec": {
   "display_name": "Python 3",
   "language": "python",
   "name": "python3"
  },
  "language_info": {
   "codemirror_mode": {
    "name": "ipython",
    "version": 2
   },
   "file_extension": ".py",
   "mimetype": "text/x-python",
   "name": "python",
   "nbconvert_exporter": "python",
   "pygments_lexer": "ipython2",
   "version": "2.7.6"
  }
 },
 "nbformat": 4,
 "nbformat_minor": 5
}
