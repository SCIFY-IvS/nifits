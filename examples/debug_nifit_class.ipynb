{
 "cells": [
  {
   "cell_type": "code",
   "execution_count": null,
   "id": "9ba6000aa182689f",
   "metadata": {},
   "outputs": [],
   "source": [
    "import numpy as np\n",
    "import matplotlib.pyplot as plt"
   ]
  },
  {
   "cell_type": "markdown",
   "id": "bb883ec2d9e47628",
   "metadata": {},
   "source": [
    "# 1. Create example data\n",
    "# 1.1 Setup a single Bracewell"
   ]
  },
  {
   "cell_type": "code",
   "execution_count": null,
   "id": "c5388f72880cbce9",
   "metadata": {},
   "outputs": [],
   "source": [
    "# combiner matrix for a single Bracewell array\n",
    "combiner = np.array(((1, -1), (1, 1))) / np.sqrt(2)\n",
    "\n",
    "# collector positions\n",
    "baseline = 15  # in meter\n",
    "# Collector diameter\n",
    "telescope_diam = 2.0\n",
    "\n",
    "# rotation angles over observation\n",
    "n_sample_time = 10\n",
    "rotation_angle = np.linspace(0., 2*np.pi, n_sample_time)  # in rad\n",
    "\n",
    "collector_positions_init = np.array(((-baseline/2, baseline/2), (0, 0)))\n",
    "\n",
    "rotation_matrix = np.array(((np.cos(rotation_angle), -np.sin(rotation_angle)),\n",
    "                            (np.sin(rotation_angle), np.cos(rotation_angle))))\n",
    "\n",
    "collector_position = np.dot(np.swapaxes(rotation_matrix, -1, 0), collector_positions_init)\n",
    "\n",
    "# observing wavelengths\n",
    "n_wl_bin = 5\n",
    "wl_bins = np.linspace(4.0e-6, 18.0e-6, n_wl_bin)  # in meter\n",
    "\n",
    "# collector area\n",
    "scaled_area = 1  # in meter^2"
   ]
  },
  {
   "cell_type": "markdown",
   "id": "37f5a2947b45a265",
   "metadata": {},
   "source": [
    "## 1.2 Compute planet signal"
   ]
  },
  {
   "cell_type": "code",
   "execution_count": null,
   "id": "a933153ef7fc6d2a",
   "metadata": {},
   "outputs": [],
   "source": [
    "# source position\n",
    "separation_arcsec = 0.1  # in arcsec\n",
    "separation_rad = separation_arcsec / 3600 / 180 * np.pi  # in rad\n",
    "\n",
    "# rotation angles over observation\n",
    "rotation_angle_planet = 0. # in rad\n",
    "\n",
    "# source position angle vectors in radians\n",
    "source_position = np.array((separation_rad * np.cos(rotation_angle_planet), \n",
    "                            separation_rad * np.sin(rotation_angle_planet)))\n",
    "\n",
    "# Calculate the phase term\n",
    "phase_term = 1j * 2 * np.pi / wl_bins\n",
    "\n",
    "# Compute the dot products for all t in one go using np.tensordot\n",
    "dot_product_x = np.tensordot(collector_position[:, 0, :], source_position, \n",
    "                             axes=([1], [0]))\n",
    "dot_product_y = np.tensordot(collector_position[:, 1, :], source_position, \n",
    "                             axes=([1], [0]))\n",
    "\n",
    "# Calculate the phasors\n",
    "phasor_x = scaled_area * np.exp(phase_term[:,None] * dot_product_x[None,:])\n",
    "phasor_y = scaled_area * np.exp(phase_term[:,None] * dot_product_y[None,:])\n",
    "\n",
    "# Combine the results\n",
    "input_phasor = np.array([phasor_x, phasor_y])\n",
    "\n",
    "planet_signal = np.abs(np.array([np.dot(combiner, input_phasor[:, t]) for t in range(input_phasor.shape[1])]))**2"
   ]
  },
  {
   "cell_type": "markdown",
   "id": "b006f3e856c71cc6",
   "metadata": {},
   "source": [
    "## 1.3 Add random noise and plot the signal"
   ]
  },
  {
   "cell_type": "code",
   "execution_count": null,
   "id": "c2ff3e1dae8d2205",
   "metadata": {},
   "outputs": [],
   "source": [
    "# star_signal = np.random.normal([np.mean(planet_signal)*10, np.mean(planet_signal)*1000], [np.sqrt(np.mean(planet_signal)*10), np.sqrt(np.mean(planet_signal)*1000)], planet_signal.shape)\n",
    "star_signal = np.zeros_like(planet_signal)\n",
    "signal = planet_signal + star_signal"
   ]
  },
  {
   "cell_type": "code",
   "execution_count": null,
   "id": "ea3a4688e1664e61",
   "metadata": {},
   "outputs": [],
   "source": [
    "plt.figure()\n",
    "for i, awl in enumerate(wl_bins):\n",
    "    plt.plot(signal[i, 1, :], linestyle=\"--\", label=f\"Bright, wl {wl_bins[i]:.2e}\")\n",
    "    plt.plot(signal[i, 0, :], linestyle=\"-\", label=f\"Dark, wl {wl_bins[i]:.2e}\")\n",
    "plt.legend(fontsize=7)\n",
    "plt.ylabel('Signal in a.u.')\n",
    "plt.xlabel('Time in a.u.')\n",
    "plt.show()"
   ]
  },
  {
   "cell_type": "markdown",
   "id": "9bd345fce2b125a8",
   "metadata": {},
   "source": [
    "# 2. Initialize a nifits object\n",
    "## 2.1 Initialize the extension classes"
   ]
  },
  {
   "cell_type": "code",
   "execution_count": null,
   "id": "f4d10106-941c-4701-90d2-12989cfa92f8",
   "metadata": {},
   "outputs": [],
   "source": [
    "\n",
    "from nifits.io.oifits import NIFITS_EXTENSIONS\n",
    "import nifits.io.oifits as oifits\n",
    "for aclass in NIFITS_EXTENSIONS:\n",
    "    a = oifits.getclass(aclass)\n",
    "    print()\n",
    "    print(aclass, \" :\")\n",
    "    print(\"---------------\")\n",
    "    print(a.__doc__)\n",
    "    print(\"==============================================================\")"
   ]
  },
  {
   "cell_type": "code",
   "execution_count": null,
   "id": "b21b2d285ba2f647",
   "metadata": {},
   "outputs": [],
   "source": [
    "from nifits.io.oifits import NI_CATM\n",
    "ni_catm = NI_CATM(data_array=combiner[np.newaxis, :, :])"
   ]
  },
  {
   "cell_type": "code",
   "execution_count": null,
   "id": "9b64e4bc8da61089",
   "metadata": {},
   "outputs": [],
   "source": [
    "from nifits.io.oifits import NI_FOV, NI_FOV_DEFAULT_HEADER\n",
    "from copy import copy\n",
    "my_FOV_header = copy(NI_FOV_DEFAULT_HEADER)\n",
    "my_FOV_header[\"FOV_TELDIAM\"] = telescope_diam\n",
    "my_FOV_header[\"FOV_TELDIAM_UNIT\"] = \"m\"\n",
    "ni_fov = NI_FOV.simple_from_header(header=my_FOV_header, lamb=wl_bins,\n",
    "                                  n=n_sample_time)"
   ]
  },
  {
   "cell_type": "code",
   "execution_count": null,
   "id": "8ddc9169f71d81d5",
   "metadata": {},
   "outputs": [],
   "source": [
    "from nifits.io.oifits import OI_TARGET\n",
    "oi_target = OI_TARGET(target=['Test Target'], \n",
    "                      raep0=14.3, \n",
    "                      decep0=-60.4)"
   ]
  },
  {
   "cell_type": "code",
   "execution_count": null,
   "id": "faeb0bbf-94ec-4868-bb6a-dbf7dcb7eb87",
   "metadata": {},
   "outputs": [],
   "source": [
    "from nifits.io import oifits\n",
    "from astropy.io import fits\n",
    "\n",
    "from astropy.table import Table, Column\n",
    "\n",
    "wl_data = np.hstack((wl_bins[:,None], np.gradient(wl_bins)[:,None]))\n",
    "wl_table = Table(data=wl_data, names=(\"EFF_WAVE\", \"EFF_BAND\"), dtype=(float, float))\n",
    "wl_table\n",
    "\n",
    "del wl_data\n",
    "oi_wavelength = oifits.OI_WAVELENGTH(data_table=wl_table,)\n",
    "# oi_wavelength = oifits.OI_WAVELENGTH()\n",
    "\n",
    "myheader = fits.Header()\n",
    "mynifit = oifits.nifits(header=myheader,\n",
    "                        ni_catm=ni_catm,\n",
    "                        ni_fov=ni_fov,\n",
    "                        oi_target=oi_target,\n",
    "                        oi_wavelength=oi_wavelength)\n",
    "mynifit.header"
   ]
  },
  {
   "cell_type": "code",
   "execution_count": null,
   "id": "c82387ab-6c44-40aa-9f9f-4852ad0c04fc",
   "metadata": {},
   "outputs": [],
   "source": [
    "myhdu = mynifit.to_nifits(filename=\"log/testfits.nifits\",\n",
    "                            static_only=True,\n",
    "                          writefile=True,\n",
    "                         overwrite=True)\n",
    "myhdu[0].header"
   ]
  },
  {
   "cell_type": "code",
   "execution_count": null,
   "id": "7e95a07c-9bcc-40e0-a3a9-e31cbf595f2e",
   "metadata": {},
   "outputs": [],
   "source": [
    "with fits.open(\"log/testfits.nifits\") as anhdu:\n",
    "    newfits = oifits.nifits.from_nifits(anhdu)\n",
    "newfits.header"
   ]
  },
  {
   "cell_type": "code",
   "execution_count": null,
   "id": "fc1d3b23-90b7-4895-b547-2c1b87383e0a",
   "metadata": {},
   "outputs": [],
   "source": []
  },
  {
   "cell_type": "markdown",
   "id": "6e1c3cac-1a28-42fd-8fb2-9ff47ac0f783",
   "metadata": {},
   "source": [
    "# Testing the back end"
   ]
  },
  {
   "cell_type": "code",
   "execution_count": null,
   "id": "722bab15-5668-4bae-b74a-4e9fa15fa55f",
   "metadata": {},
   "outputs": [],
   "source": [
    "import nifits.backend as be"
   ]
  },
  {
   "cell_type": "code",
   "execution_count": null,
   "id": "737294fe-92e2-4c2e-a45a-39e9d030e3a7",
   "metadata": {},
   "outputs": [],
   "source": [
    "mybe = be.NI_Backend(mynifit)\n",
    "abe = be.NI_Backend()\n",
    "abe.add_instrument_definition(mynifit)"
   ]
  },
  {
   "cell_type": "code",
   "execution_count": null,
   "id": "21af5c92-3029-4c0a-b2a8-61a024229e15",
   "metadata": {},
   "outputs": [],
   "source": [
    "abe.create_fov_function_all()\n",
    "halfrange = 1000\n",
    "xs = np.linspace(-halfrange,halfrange, 100)\n",
    "map_extent = [-halfrange, halfrange, -halfrange, halfrange]\n",
    "xx, yy = np.meshgrid(xs, xs)\n",
    "map_fov = abe.nifits.ni_fov.xy2phasor(xx.flatten(), yy.flatten())"
   ]
  },
  {
   "cell_type": "code",
   "execution_count": null,
   "id": "8c773c35-ea81-466a-9aef-9b1a288c9475",
   "metadata": {},
   "outputs": [],
   "source": [
    "plt.figure()\n",
    "plt.imshow(np.abs(map_fov[0,0,:].reshape((xx.shape))), extent=map_extent)\n",
    "plt.colorbar()\n",
    "plt.contour(np.abs(map_fov[0,0,:].reshape((xx.shape))), levels=(0.5,), extent=map_extent)\n",
    "plt.show()\n",
    "\n",
    "plt.figure()\n",
    "plt.imshow(np.abs(map_fov[0,-1,:].reshape((xx.shape))), extent=map_extent)\n",
    "plt.colorbar()\n",
    "plt.contour(np.abs(map_fov[0,-1,:].reshape((xx.shape))), levels=(0.5,), extent=map_extent)\n",
    "plt.show()"
   ]
  },
  {
   "cell_type": "code",
   "execution_count": null,
   "id": "99816e45-c701-4fb2-b9ec-e12d48e748f0",
   "metadata": {},
   "outputs": [],
   "source": [
    "import astropy.units as u\n",
    "(wl_bins/telescope_diam)*u.rad.to(u.mas)"
   ]
  },
  {
   "cell_type": "code",
   "execution_count": null,
   "id": "92a73ccc-f660-4f67-bb18-aff96f7daeca",
   "metadata": {},
   "outputs": [],
   "source": []
  },
  {
   "cell_type": "code",
   "execution_count": null,
   "id": "f0817e9a-7106-4122-be1c-32600e8c7be6",
   "metadata": {},
   "outputs": [],
   "source": []
  },
  {
   "cell_type": "code",
   "execution_count": null,
   "id": "34ae6dd0f6a2803f",
   "metadata": {},
   "outputs": [],
   "source": [
    "from nifits.io.oifits import NI_MOD\n",
    "ni_mod = NI_MOD(app_index=[0, 1],\n",
    "                target_id=[0, 0], \n",
    "                time=3600., \n",
    "                mjd=60396.041666,\n",
    "                int_time=1000.,\n",
    "                mod_phas=np.ones((1, signal.shape[0]), dtype=np.complex128),\n",
    "                app_xy=collector_position, \n",
    "                arrcol=1.,\n",
    "                fov_index=0)"
   ]
  },
  {
   "cell_type": "code",
   "execution_count": null,
   "id": "fe7844046f04cf60",
   "metadata": {},
   "outputs": [],
   "source": [
    "import datetime\n",
    "# print current time and date as string\n",
    "now = str(datetime.datetime.now())"
   ]
  },
  {
   "cell_type": "code",
   "execution_count": null,
   "id": "cb97d15d6c3171e3",
   "metadata": {},
   "outputs": [],
   "source": [
    "str(now)"
   ]
  },
  {
   "cell_type": "code",
   "execution_count": null,
   "id": "57a92f892c8752f2",
   "metadata": {},
   "outputs": [],
   "source": [
    "header_dict = {'SIMPLE': True,\n",
    "               'BITPIX': -32,\n",
    "               'NAXIS': 0,\n",
    "                'EXTEND': True,\n",
    "               'ORIGIN': 'NIFITS Consortium',\n",
    "               'DATE': str(datetime.datetime.now()),\n",
    "               'DATE-OBS': '2021-01-01T00:00:00',\n",
    "               'CONTENT': 'NIFITS',\n",
    "                'TELESCOP': 'Test Telescope',\n",
    "                'INSTRUME': 'Test Instrument',\n",
    "                'OBJECT': 'Test Object',\n",
    "                'OBSERVER': 'Test Observer',\n",
    "               'INSMODE': 'Test Instrument Mode',\n",
    "               }"
   ]
  },
  {
   "cell_type": "markdown",
   "id": "3acb5d2d793778ff",
   "metadata": {},
   "source": [
    "## 2.2 Initialize the OIFITS object"
   ]
  },
  {
   "cell_type": "code",
   "execution_count": null,
   "id": "1c88137ac89dbf8",
   "metadata": {},
   "outputs": [],
   "source": [
    "from nifits.io.oifits import oifits"
   ]
  },
  {
   "cell_type": "code",
   "execution_count": null,
   "id": "603ec0690b6618c6",
   "metadata": {},
   "outputs": [],
   "source": [
    "oifits_obj = oifits(header_dict=header_dict,\n",
    "                    catm=ni_catm,\n",
    "                    fov=ni_mod)"
   ]
  },
  {
   "cell_type": "code",
   "execution_count": null,
   "id": "36fdc22d8317f0ec",
   "metadata": {},
   "outputs": [],
   "source": []
  }
 ],
 "metadata": {
  "kernelspec": {
   "display_name": "Python 3 (ipykernel)",
   "language": "python",
   "name": "python3"
  },
  "language_info": {
   "codemirror_mode": {
    "name": "ipython",
    "version": 3
   },
   "file_extension": ".py",
   "mimetype": "text/x-python",
   "name": "python",
   "nbconvert_exporter": "python",
   "pygments_lexer": "ipython3",
   "version": "3.8.13"
  }
 },
 "nbformat": 4,
 "nbformat_minor": 5
}
