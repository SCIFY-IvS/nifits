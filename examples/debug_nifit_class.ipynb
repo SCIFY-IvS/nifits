{
 "cells": [
  {
   "cell_type": "code",
   "execution_count": null,
   "id": "9ba6000aa182689f",
   "metadata": {},
   "outputs": [],
   "source": [
    "import numpy as np\n",
    "import matplotlib.pyplot as plt\n",
    "import astropy.units as u"
   ]
  },
  {
   "cell_type": "markdown",
   "id": "bb883ec2d9e47628",
   "metadata": {},
   "source": [
    "# 1. Create example data\n",
    "# 1.1 Setup a single Bracewell"
   ]
  },
  {
   "cell_type": "code",
   "execution_count": null,
   "id": "c5388f72880cbce9",
   "metadata": {},
   "outputs": [],
   "source": [
    "# combiner matrix for a single Bracewell array\n",
    "combiner = np.array(((1, -1), (1, 1)), dtype=complex) / np.sqrt(2)\n",
    "mat_3T_txt = \"\"\"\n",
    "Matrix([\n",
    "[sqrt(3)/3,                sqrt(3)/3,                sqrt(3)/3],\n",
    "[sqrt(3)/3,  sqrt(3)*exp(2*I*pi/3)/3, sqrt(3)*exp(-2*I*pi/3)/3],\n",
    "[sqrt(3)/3, sqrt(3)*exp(-2*I*pi/3)/3,  sqrt(3)*exp(2*I*pi/3)/3]])\n",
    "\"\"\"\n",
    "import sympy as sp\n",
    "combiner_s = sp.sympify(mat_3T_txt)\n",
    "combiner = np.array(sp.N(combiner_s,), dtype=np.complex128)\n",
    "\n",
    "# collector positions\n",
    "baseline = 15  # in meter\n",
    "# Collector diameter\n",
    "telescope_diam = 3.0\n",
    "\n",
    "# rotation angles over observation\n",
    "n_sample_time = 100\n",
    "rotation_angle = np.linspace(0., 2*np.pi, n_sample_time)  # in rad\n",
    "\n",
    "# collector_positions_init = np.array(((-baseline/2, baseline/2),\n",
    "#                                      (0, 0)))\n",
    "\n",
    "collector_positions_init = np.array(((-baseline/2, baseline/2, 0),\n",
    "                                     (0, 0, baseline/2)))\n",
    "\n",
    "rotation_matrix = np.array(((np.cos(rotation_angle), -np.sin(rotation_angle)),\n",
    "                            (np.sin(rotation_angle), np.cos(rotation_angle))))\n",
    "\n",
    "collector_position = np.dot(np.swapaxes(rotation_matrix, -1, 0), collector_positions_init)\n",
    "\n",
    "# observing wavelengths\n",
    "n_wl_bin = 5\n",
    "wl_bins = np.linspace(4.0e-6, 18.0e-6, n_wl_bin)  # in meter\n",
    "\n",
    "# collector area\n",
    "scaled_area = 1  # in meter^2"
   ]
  },
  {
   "cell_type": "markdown",
   "id": "37f5a2947b45a265",
   "metadata": {},
   "source": [
    "## 1.2 Compute planet signal"
   ]
  },
  {
   "cell_type": "code",
   "execution_count": null,
   "id": "a933153ef7fc6d2a",
   "metadata": {},
   "outputs": [],
   "source": [
    "# source position\n",
    "separation_arcsec = 0.1  # in arcsec\n",
    "separation_rad = separation_arcsec / 3600 / 180 * np.pi  # in rad\n",
    "\n",
    "# rotation angles over observation\n",
    "rotation_angle_planet = 0. # in rad\n",
    "\n",
    "# source position angle vectors in radians\n",
    "source_position = np.array((separation_rad * np.cos(rotation_angle_planet), \n",
    "                            separation_rad * np.sin(rotation_angle_planet)))\n",
    "\n",
    "# # Calculate the phase term\n",
    "# phase_term = 1j * 2 * np.pi / wl_bins\n",
    "# \n",
    "# # Compute the dot products for all t in one go using np.tensordot\n",
    "# dot_product_x = np.tensordot(collector_position[:, 0, :], source_position, \n",
    "#                              axes=([1], [0]))\n",
    "# dot_product_y = np.tensordot(collector_position[:, 1, :], source_position, \n",
    "#                              axes=([1], [0]))\n",
    "# dot_product_x = np.einsum(\"t x a, x -> t a\", collector_position, source_position\n",
    "# \n",
    "# # Calculate the phasors\n",
    "# phasor_x = scaled_area * np.exp(phase_term[:,None] * dot_product_x[None,:])\n",
    "# phasor_y = scaled_area * np.exp(phase_term[:,None] * dot_product_y[None,:])\n",
    "# \n",
    "# # Combine the results\n",
    "# input_phasor = np.array([phasor_x, phasor_y])\n",
    "# \n",
    "# planet_signal = np.abs(np.array([np.dot(combiner, input_phasor[:, t]) for t in range(input_phasor.shape[1])]))**2"
   ]
  },
  {
   "cell_type": "markdown",
   "id": "b006f3e856c71cc6",
   "metadata": {},
   "source": [
    "## 1.3 Add random noise and plot the signal"
   ]
  },
  {
   "cell_type": "code",
   "execution_count": null,
   "id": "c2ff3e1dae8d2205",
   "metadata": {},
   "outputs": [],
   "source": [
    "# # star_signal = np.random.normal([np.mean(planet_signal)*10, np.mean(planet_signal)*1000], [np.sqrt(np.mean(planet_signal)*10), np.sqrt(np.mean(planet_signal)*1000)], planet_signal.shape)\n",
    "# star_signal = np.zeros_like(planet_signal)\n",
    "# signal = planet_signal + star_signal"
   ]
  },
  {
   "cell_type": "code",
   "execution_count": null,
   "id": "ea3a4688e1664e61",
   "metadata": {},
   "outputs": [],
   "source": [
    "# plt.figure()\n",
    "# for i, awl in enumerate(wl_bins):\n",
    "#     plt.plot(signal[i, 1, :], linestyle=\"--\", label=f\"Bright, wl {wl_bins[i]:.2e}\")\n",
    "#     plt.plot(signal[i, 0, :], linestyle=\"-\", label=f\"Dark, wl {wl_bins[i]:.2e}\")\n",
    "# plt.legend(fontsize=7)\n",
    "# plt.ylabel('Signal in a.u.')\n",
    "# plt.xlabel('Time in a.u.')\n",
    "# plt.show()"
   ]
  },
  {
   "cell_type": "markdown",
   "id": "9bd345fce2b125a8",
   "metadata": {},
   "source": [
    "# 2. Initialize a nifits object\n",
    "## 2.1 Initialize the extension classes"
   ]
  },
  {
   "cell_type": "code",
   "execution_count": null,
   "id": "f4d10106-941c-4701-90d2-12989cfa92f8",
   "metadata": {},
   "outputs": [],
   "source": [
    "\n",
    "from nifits.io.oifits import NIFITS_EXTENSIONS\n",
    "import nifits.io.oifits as oifits\n",
    "for aclass in NIFITS_EXTENSIONS:\n",
    "    a = oifits.getclass(aclass)\n",
    "    print()\n",
    "    print(aclass, \" :\")\n",
    "    print(\"---------------\")\n",
    "    print(a.__doc__)\n",
    "    print(\"==============================================================\")"
   ]
  },
  {
   "cell_type": "code",
   "execution_count": null,
   "id": "b21b2d285ba2f647",
   "metadata": {},
   "outputs": [],
   "source": [
    "from nifits.io.oifits import NI_CATM\n",
    "ni_catm = NI_CATM(data_array=combiner[None, :, :] * np.ones_like(wl_bins)[:,None,None])"
   ]
  },
  {
   "cell_type": "code",
   "execution_count": null,
   "id": "9b64e4bc8da61089",
   "metadata": {},
   "outputs": [],
   "source": [
    "from nifits.io.oifits import NI_FOV, NI_FOV_DEFAULT_HEADER\n",
    "from copy import copy\n",
    "my_FOV_header = copy(NI_FOV_DEFAULT_HEADER)\n",
    "my_FOV_header[\"FOV_TELDIAM\"] = telescope_diam\n",
    "my_FOV_header[\"FOV_TELDIAM_UNIT\"] = \"m\"\n",
    "ni_fov = NI_FOV.simple_from_header(header=my_FOV_header, lamb=wl_bins,\n",
    "                                  n=n_sample_time)"
   ]
  },
  {
   "cell_type": "code",
   "execution_count": null,
   "id": "8ddc9169f71d81d5",
   "metadata": {},
   "outputs": [],
   "source": [
    "from nifits.io.oifits import OI_TARGET\n",
    "oi_target = OI_TARGET.from_scratch()\n",
    "oi_target.add_target(target='Test Target', \n",
    "                      raep0=14.3, \n",
    "                      decep0=-60.4)"
   ]
  },
  {
   "cell_type": "code",
   "execution_count": null,
   "id": "277f8eae-00a8-48e2-a06b-d77ea7662b8b",
   "metadata": {},
   "outputs": [],
   "source": [
    "from astropy.table import Table, Column\n",
    "from nifits.io.oifits import NI_MOD\n",
    "from astropy.time import Time\n",
    "n_telescopes = combiner.shape[1]\n",
    "total_obs_time = 10*3600      # s\n",
    "times_relative = np.linspace(0, total_obs_time, n_sample_time)\n",
    "dateobs = Time(\"2035-06-23T00:00:00.000\") + times_relative*u.s\n",
    "mjds = dateobs.to_value(\"mjd\")\n",
    "seconds = (dateobs - dateobs[0]).to_value(\"s\")\n",
    "target_id = np.zeros_like(times_relative)\n",
    "app_index = np.arange(n_telescopes)[None,:]*np.ones(n_sample_time)[:,None]\n",
    "target_ids = 0 * np.ones(n_sample_time)\n",
    "int_times = np.gradient(seconds)\n",
    "mod_phas = np.ones((n_sample_time, n_wl_bin, n_telescopes), dtype=complex)\n",
    "appxy = collector_position.transpose((0,2,1))\n",
    "arrcol = np.ones((n_sample_time, n_telescopes)) * np.pi*telescope_diam**2 / 4\n",
    "fov_index = np.ones(n_sample_time)\n",
    "\n",
    "app_index         = Column(data=app_index, name=\"APP_INDEX\",\n",
    "                   unit=None, dtype=int)\n",
    "target_id         = Column(data=target_ids, name=\"TARGET_ID\",\n",
    "                   unit=None, dtype=int)\n",
    "times_relative    = Column(data=seconds, name=\"TIME\",\n",
    "                   unit=\"\", dtype=float)\n",
    "mjds              = Column(data=mjds, name=\"MJD\",\n",
    "                   unit=\"day\", dtype=float)\n",
    "int_times         = Column(data=seconds, name=\"INT_TIME\",\n",
    "                   unit=\"s\", dtype=float)\n",
    "mod_phas          = Column(data=mod_phas, name=\"MOD_PHAS\",\n",
    "                   unit=\"rad\", dtype=complex)\n",
    "appxy             = Column(data=appxy, name=\"APPXY\",\n",
    "                   unit=\"m\", dtype=float)\n",
    "arrcol            = Column(data=arrcol, name=\"ARRCOL\",\n",
    "                   unit=\"m^2\", dtype=float)\n",
    "fov_index         = Column(data=fov_index, name=\"FOV_INDEX\",\n",
    "                   unit=None, dtype=int)\n",
    "mymod_table = Table()\n",
    "mymod_table.add_columns((app_index, target_id, times_relative, mjds,\n",
    "                        int_times, mod_phas, appxy, arrcol, fov_index))\n",
    "mymod_table\n",
    "mynimod = NI_MOD(mymod_table)"
   ]
  },
  {
   "cell_type": "markdown",
   "id": "556d2fcb-3a10-4ef5-8993-7f0f442e6a3e",
   "metadata": {},
   "source": [
    "## 2.2 Creating the NIFITS parent object"
   ]
  },
  {
   "cell_type": "code",
   "execution_count": null,
   "id": "faeb0bbf-94ec-4868-bb6a-dbf7dcb7eb87",
   "metadata": {},
   "outputs": [],
   "source": [
    "from nifits.io import oifits\n",
    "from astropy.io import fits\n",
    "\n",
    "from astropy.table import Table, Column\n",
    "\n",
    "wl_data = np.hstack((wl_bins[:,None], np.gradient(wl_bins)[:,None]))\n",
    "wl_table = Table(data=wl_data, names=(\"EFF_WAVE\", \"EFF_BAND\"), dtype=(float, float))\n",
    "wl_table\n",
    "\n",
    "del wl_data\n",
    "oi_wavelength = oifits.OI_WAVELENGTH(data_table=wl_table,)\n",
    "# oi_wavelength = oifits.OI_WAVELENGTH()\n",
    "\n",
    "myheader = fits.Header()\n",
    "mynifit = oifits.nifits(header=myheader,\n",
    "                        ni_catm=ni_catm,\n",
    "                        ni_fov=ni_fov,\n",
    "                        oi_target=oi_target,\n",
    "                        oi_wavelength=oi_wavelength,\n",
    "                        ni_mod=mynimod)\n",
    "mynifit.header"
   ]
  },
  {
   "cell_type": "markdown",
   "id": "7e310a0a-4782-49bd-8140-89b921d0ae24",
   "metadata": {},
   "source": [
    "## 2.3 Saving and opening"
   ]
  },
  {
   "cell_type": "code",
   "execution_count": null,
   "id": "c82387ab-6c44-40aa-9f9f-4852ad0c04fc",
   "metadata": {},
   "outputs": [],
   "source": [
    "myhdu = mynifit.to_nifits(filename=\"log/testfits.nifits\",\n",
    "                            static_only=True,\n",
    "                          writefile=True,\n",
    "                         overwrite=True)\n",
    "myhdu[0].header"
   ]
  },
  {
   "cell_type": "code",
   "execution_count": null,
   "id": "71440f1e-3f36-4065-9857-0d648b8f2197",
   "metadata": {
    "scrolled": true
   },
   "outputs": [],
   "source": []
  },
  {
   "cell_type": "code",
   "execution_count": null,
   "id": "7e95a07c-9bcc-40e0-a3a9-e31cbf595f2e",
   "metadata": {},
   "outputs": [],
   "source": [
    "with fits.open(\"log/testfits.nifits\") as anhdu:\n",
    "    newfits = oifits.nifits.from_nifits(anhdu)\n",
    "newfits.header"
   ]
  },
  {
   "cell_type": "markdown",
   "id": "092c7746-01d9-4c8a-a332-2bb71a990587",
   "metadata": {},
   "source": []
  },
  {
   "cell_type": "markdown",
   "id": "fa4c3172-db36-47b9-aa17-6350fc016725",
   "metadata": {},
   "source": [
    "|  Column      |  format                   |  unit            | Empty |\n",
    "|:------------:|:------------------------- |:---------------- | ---- | \n",
    "|  `APP_INDEX` |  $n_a \\times$ int         |  NA              |     |\n",
    "|  `TARGET_ID` |  int                      |  d               |     |\n",
    "|  `TIME`      |  float                    |  s               |     |\n",
    "|  `MJD`       |  float                    |  day             |     |\n",
    "|  `INT_TIME`  |  float                    |  s               |     |\n",
    "|  `MOD_PHAS`  |  $n_{\\lambda}, n_a $ cpx  |                  |     |\n",
    "|  `APPXY`     |  $n_a, 2 $ float          | m               |      |\n",
    "|  `ARRCOL`    |  $n_a $ float             |  $\\mathrm{m}^2$  |     |\n",
    "|  `FOV_INDEX` |  $n_a $ int               |  NA              |     |"
   ]
  },
  {
   "cell_type": "code",
   "execution_count": null,
   "id": "fc1d3b23-90b7-4895-b547-2c1b87383e0a",
   "metadata": {},
   "outputs": [],
   "source": [
    "ni_catm.name"
   ]
  },
  {
   "cell_type": "markdown",
   "id": "6e1c3cac-1a28-42fd-8fb2-9ff47ac0f783",
   "metadata": {},
   "source": [
    "# 3. Testing the back end"
   ]
  },
  {
   "cell_type": "code",
   "execution_count": null,
   "id": "722bab15-5668-4bae-b74a-4e9fa15fa55f",
   "metadata": {},
   "outputs": [],
   "source": [
    "import nifits.backend as be"
   ]
  },
  {
   "cell_type": "code",
   "execution_count": null,
   "id": "737294fe-92e2-4c2e-a45a-39e9d030e3a7",
   "metadata": {},
   "outputs": [],
   "source": [
    "mybe = be.NI_Backend(mynifit)\n",
    "abe = be.NI_Backend()\n",
    "abe.add_instrument_definition(mynifit)"
   ]
  },
  {
   "cell_type": "code",
   "execution_count": null,
   "id": "21af5c92-3029-4c0a-b2a8-61a024229e15",
   "metadata": {},
   "outputs": [],
   "source": [
    "abe.create_fov_function_all()\n",
    "halfrange = 1000\n",
    "halfrange_rad = halfrange*u.mas.to(u.rad)\n",
    "xs = np.linspace(-halfrange_rad, halfrange_rad, 100)\n",
    "map_extent = [-halfrange, halfrange, -halfrange, halfrange]\n",
    "xx, yy = np.meshgrid(xs, xs)\n",
    "map_fov = abe.nifits.ni_fov.xy2phasor(xx.flatten(), yy.flatten())"
   ]
  },
  {
   "cell_type": "code",
   "execution_count": null,
   "id": "8c773c35-ea81-466a-9aef-9b1a288c9475",
   "metadata": {},
   "outputs": [],
   "source": [
    "plt.figure(dpi=30)\n",
    "plt.imshow(np.abs(map_fov[0,0,:].reshape((xx.shape))), extent=map_extent)\n",
    "plt.colorbar()\n",
    "plt.contour(np.abs(map_fov[0,0,:].reshape((xx.shape))), levels=(0.5,), extent=map_extent)\n",
    "plt.show()\n",
    "\n",
    "plt.figure(dpi=100)\n",
    "plt.imshow(np.abs(map_fov[0,-1,:].reshape((xx.shape))), extent=map_extent)\n",
    "plt.colorbar()\n",
    "plt.contour(np.abs(map_fov[0,-1,:].reshape((xx.shape))), levels=(0.5,), extent=map_extent)\n",
    "plt.show()"
   ]
  },
  {
   "cell_type": "code",
   "execution_count": null,
   "id": "99816e45-c701-4fb2-b9ec-e12d48e748f0",
   "metadata": {},
   "outputs": [],
   "source": [
    "\n",
    "(wl_bins/telescope_diam)*u.rad.to(u.mas)"
   ]
  },
  {
   "cell_type": "code",
   "execution_count": null,
   "id": "92a73ccc-f660-4f67-bb18-aff96f7daeca",
   "metadata": {},
   "outputs": [],
   "source": [
    "xys_mas = np.random.uniform(low=-500, high=+500, size=(2,10000)) \n",
    "xys = xys_mas * u.mas.to(u.rad)\n",
    "# xysm = xys[:,:]\n",
    "%time z = abe.get_all_outs(xys[0,:], xys[1,:], kernels=False)"
   ]
  },
  {
   "cell_type": "code",
   "execution_count": null,
   "id": "0b1192dd-9dbf-4491-969d-8ac69d29e924",
   "metadata": {},
   "outputs": [],
   "source": [
    "plt.figure()\n",
    "plt.plot(z[:,1,1,3])\n",
    "plt.show()"
   ]
  },
  {
   "cell_type": "code",
   "execution_count": null,
   "id": "143b7889-9dc0-4b1f-af49-a53b3c148089",
   "metadata": {},
   "outputs": [],
   "source": [
    "plt.figure()\n",
    "plt.scatter(xys_mas[0,:],xys_mas[1,:], c=z[0,-1,1,:], cmap=\"viridis\", s=3)\n",
    "plt.colorbar()\n",
    "plt.show()\n",
    "\n",
    "x_inj = abe.nifits.ni_fov.xy2phasor(xys[0,:], xys[1,:])\n",
    "plt.figure()\n",
    "plt.scatter(xys_mas[0,:],xys_mas[1,:], c=np.abs(x_inj[0,-1,:]), cmap=\"viridis\", s=3)\n",
    "plt.colorbar()\n",
    "plt.show()\n",
    "print(np.max(z))"
   ]
  },
  {
   "cell_type": "code",
   "execution_count": null,
   "id": "db421430-c995-471c-bb3d-f8987e26a7b7",
   "metadata": {},
   "outputs": [],
   "source": [
    "a = np.random.normal(size=10)\n",
    "b = np.random.normal(size=5)\n",
    "a[:,None].dot(b[None,:])"
   ]
  },
  {
   "cell_type": "code",
   "execution_count": null,
   "id": "9ff31090-367b-4103-aadd-ad579fd18b6f",
   "metadata": {},
   "outputs": [],
   "source": [
    "abe.nifits.ni_mod.appxy.shape"
   ]
  },
  {
   "cell_type": "code",
   "execution_count": null,
   "id": "0b8ad775-1ef4-4c77-9029-d83f6c9f8380",
   "metadata": {},
   "outputs": [],
   "source": []
  },
  {
   "cell_type": "code",
   "execution_count": null,
   "id": "1b3c8774-a3bf-431d-b2ad-5f54ef5a2c77",
   "metadata": {},
   "outputs": [],
   "source": []
  },
  {
   "cell_type": "code",
   "execution_count": null,
   "id": "6b600ca7-ce95-4f4d-8032-38fdc9543562",
   "metadata": {},
   "outputs": [],
   "source": []
  },
  {
   "cell_type": "code",
   "execution_count": null,
   "id": "f2611c08-ab14-40f0-9bf0-f0eaa520b651",
   "metadata": {},
   "outputs": [],
   "source": []
  },
  {
   "cell_type": "code",
   "execution_count": null,
   "id": "f0817e9a-7106-4122-be1c-32600e8c7be6",
   "metadata": {},
   "outputs": [],
   "source": []
  },
  {
   "cell_type": "code",
   "execution_count": null,
   "id": "34ae6dd0f6a2803f",
   "metadata": {},
   "outputs": [],
   "source": [
    "from nifits.io.oifits import NI_MOD\n",
    "ni_mod = NI_MOD(app_index=[0, 1],\n",
    "                target_id=[0, 0], \n",
    "                time=3600., \n",
    "                mjd=60396.041666,\n",
    "                int_time=1000.,\n",
    "                mod_phas=np.ones((1, signal.shape[0]), dtype=np.complex128),\n",
    "                app_xy=collector_position, \n",
    "                arrcol=1.,\n",
    "                fov_index=0)"
   ]
  },
  {
   "cell_type": "code",
   "execution_count": null,
   "id": "fe7844046f04cf60",
   "metadata": {},
   "outputs": [],
   "source": [
    "import datetime\n",
    "# print current time and date as string\n",
    "now = str(datetime.datetime.now())"
   ]
  },
  {
   "cell_type": "code",
   "execution_count": null,
   "id": "cb97d15d6c3171e3",
   "metadata": {},
   "outputs": [],
   "source": [
    "str(now)"
   ]
  },
  {
   "cell_type": "code",
   "execution_count": null,
   "id": "57a92f892c8752f2",
   "metadata": {},
   "outputs": [],
   "source": [
    "header_dict = {'SIMPLE': True,\n",
    "               'BITPIX': -32,\n",
    "               'NAXIS': 0,\n",
    "                'EXTEND': True,\n",
    "               'ORIGIN': 'NIFITS Consortium',\n",
    "               'DATE': str(datetime.datetime.now()),\n",
    "               'DATE-OBS': '2021-01-01T00:00:00',\n",
    "               'CONTENT': 'NIFITS',\n",
    "                'TELESCOP': 'Test Telescope',\n",
    "                'INSTRUME': 'Test Instrument',\n",
    "                'OBJECT': 'Test Object',\n",
    "                'OBSERVER': 'Test Observer',\n",
    "               'INSMODE': 'Test Instrument Mode',\n",
    "               }"
   ]
  },
  {
   "cell_type": "markdown",
   "id": "3acb5d2d793778ff",
   "metadata": {},
   "source": [
    "## 2.2 Initialize the OIFITS object"
   ]
  },
  {
   "cell_type": "code",
   "execution_count": null,
   "id": "1c88137ac89dbf8",
   "metadata": {},
   "outputs": [],
   "source": [
    "from nifits.io.oifits import oifits"
   ]
  },
  {
   "cell_type": "code",
   "execution_count": null,
   "id": "603ec0690b6618c6",
   "metadata": {},
   "outputs": [],
   "source": [
    "oifits_obj = oifits(header_dict=header_dict,\n",
    "                    catm=ni_catm,\n",
    "                    fov=ni_mod)"
   ]
  },
  {
   "cell_type": "code",
   "execution_count": null,
   "id": "36fdc22d8317f0ec",
   "metadata": {},
   "outputs": [],
   "source": []
  }
 ],
 "metadata": {
  "kernelspec": {
   "display_name": "Python 3 (ipykernel)",
   "language": "python",
   "name": "python3"
  },
  "language_info": {
   "codemirror_mode": {
    "name": "ipython",
    "version": 3
   },
   "file_extension": ".py",
   "mimetype": "text/x-python",
   "name": "python",
   "nbconvert_exporter": "python",
   "pygments_lexer": "ipython3",
   "version": "3.12.4"
  }
 },
 "nbformat": 4,
 "nbformat_minor": 5
}
